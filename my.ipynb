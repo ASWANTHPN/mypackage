import calculator
def fun2():
  a=4
  b=5
  result = calculator.add(a,b)
  return result
